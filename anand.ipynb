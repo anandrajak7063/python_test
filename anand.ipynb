{
 "cells": [
  {
   "cell_type": "code",
   "execution_count": 7,
   "id": "bbdc285d",
   "metadata": {},
   "outputs": [
    {
     "name": "stdout",
     "output_type": "stream",
     "text": [
      "Enter a number: 2\n",
      "Positive\n",
      "Even\n"
     ]
    }
   ],
   "source": [
    "# <Q>write a program a number is positive and (odd and even)\n",
    "#ans=\n",
    "num = float(input(\"Enter a number: \"))\n",
    "print(\"Positive\" if num > 0 else \"Negative\" if num < 0 else \"Zero\")\n",
    "print(\"Even\" if num % 2 == 0 else \"Odd\")\n",
    "\n"
   ]
  },
  {
   "cell_type": "code",
   "execution_count": 12,
   "id": "25d4c1dd",
   "metadata": {},
   "outputs": [
    {
     "name": "stdout",
     "output_type": "stream",
     "text": [
      "Enter your age: 18\n",
      "eli!\n"
     ]
    }
   ],
   "source": [
    "# <Q> eligible for vote or note\n",
    "# ans =\n",
    "def vote_eli(age):\n",
    "    if age >= 18:\n",
    "        return True\n",
    "    else:\n",
    "        return False\n",
    "age = int(input(\"Enter your age: \"))\n",
    "if vote_eli(age):\n",
    "    print(\"eligible!\")\n",
    "else:\n",
    "    print(\" not eligible.\")\n",
    "\n"
   ]
  },
  {
   "cell_type": "code",
   "execution_count": 39,
   "id": "4e009eae",
   "metadata": {},
   "outputs": [
    {
     "name": "stdout",
     "output_type": "stream",
     "text": [
      "Enter your number : 15\n",
      "15 divided\n"
     ]
    }
   ],
   "source": [
    "# <Q> write a program to whether a number is divisible by 2 and 3 ?\n",
    "# ans = \n",
    "def dividible_by_2_and_3(number):\n",
    "    if number % 2 == 0 or number % 3 ==0 :\n",
    "        return True\n",
    "    else :\n",
    "        return False\n",
    "number = int(input(\"Enter your number : \"))\n",
    "if dividible_by_2_and_3(number):\n",
    "    print ( number,\"divided\")\n",
    "else:\n",
    "    print( number ,\"not divided.\")\n",
    "    \n"
   ]
  },
  {
   "cell_type": "code",
   "execution_count": 49,
   "id": "f007ca51",
   "metadata": {},
   "outputs": [
    {
     "name": "stdout",
     "output_type": "stream",
     "text": [
      "Enter your number1 : 15\n",
      "Enter your number2 : 18\n",
      "18.0 number2\n"
     ]
    }
   ],
   "source": [
    "# <Q> write a program to find the largest number our of two number excepted from user\n",
    "# ans=\n",
    "def lar_num(number):\n",
    "    if number1 > number2 :\n",
    "        return True\n",
    "    else :\n",
    "        return False\n",
    "number1 = float(input(\"Enter your number1 : \"))\n",
    "number2 = float(input(\"Enter your number2 : \"))\n",
    "if lar_num(number):\n",
    "    print(number1,\"number1\")\n",
    "else:\n",
    "    print(number2,\"number2\")\n",
    "        \n",
    "    "
   ]
  },
  {
   "cell_type": "code",
   "execution_count": 48,
   "id": "5b6f287c",
   "metadata": {},
   "outputs": [
    {
     "name": "stdout",
     "output_type": "stream",
     "text": [
      "Enter your number1 : 15\n",
      "Enter your number2 : 18\n",
      "15.0 number1\n"
     ]
    }
   ],
   "source": [
    "#  <Q> write a program to find the lowest number out of 2 number excepted from user ?\n",
    "# ans=\n",
    "def low_num(number):\n",
    "    if number1 < number2 :\n",
    "        return True\n",
    "    else :\n",
    "        return False\n",
    "number1 = float(input(\"Enter your number1 : \"))\n",
    "number2 = float(input(\"Enter your number2 : \"))\n",
    "if low_num(number):\n",
    "    print(number1,\"number1\")\n",
    "else:\n",
    "    print(number2,\"number2\")\n",
    "        "
   ]
  },
  {
   "cell_type": "code",
   "execution_count": 73,
   "id": "1a994faa",
   "metadata": {},
   "outputs": [
    {
     "name": "stdout",
     "output_type": "stream",
     "text": [
      "Enter your number : 101\n",
      "101 it is a tree digit number\n"
     ]
    }
   ],
   "source": [
    "#<Q> write a program to check whether a number entered is three digit  number or not ?\n",
    "# ans =\n",
    "def tree_digit(number):\n",
    "    if number>99 and  number<999 :\n",
    "        return True\n",
    "   \n",
    "number = int(input(\"Enter your number : \"))\n",
    "\n",
    "if tree_digit(number):\n",
    "    print(number,\"it is a tree digit number\")\n",
    "else:\n",
    "    print(number,\"not a tree digit number\")\n",
    "        "
   ]
  },
  {
   "cell_type": "code",
   "execution_count": 85,
   "id": "160f0d57",
   "metadata": {},
   "outputs": [
    {
     "name": "stdout",
     "output_type": "stream",
     "text": [
      "Enter a number from 1 to 7: 2\n",
      "Monday\n"
     ]
    }
   ],
   "source": [
    "#<Q> write a program to accept a number from 1 to 7 and display the name of the day like 1 for sunday , 2 for monday and so on ?\n",
    "# ans = \n",
    "days = [\"Sunday\", \"Monday\", \"Tuesday\", \"Wednesday\", \"Thursday\", \"Friday\", \"Saturday\"]\n",
    "num = int(input(\"Enter a number from 1 to 7: \"))\n",
    "print(days[num - 1] if 1 <= num <= 7 else \"Invalid day number\")\n",
    "\n",
    "    \n",
    "\n"
   ]
  },
  {
   "cell_type": "code",
   "execution_count": 84,
   "id": "9f8ddf60",
   "metadata": {},
   "outputs": [
    {
     "name": "stdout",
     "output_type": "stream",
     "text": [
      "Enter your number : 22\n",
      "22 not multiple.\n"
     ]
    }
   ],
   "source": [
    "#<Q> write a program to check whether a number entered by user is multiple of 7 or not ?\n",
    "# ans =\n",
    "def mul_by_7(number):\n",
    "    if number % 7 == 0  :\n",
    "        return True\n",
    "    else :\n",
    "        return False\n",
    "number = int(input(\"Enter your number : \"))\n",
    "if mul_by_7(number):\n",
    "    print ( number,\"multiple\")\n",
    "else:\n",
    "    print( number ,\"not multiple.\")\n",
    "    "
   ]
  },
  {
   "cell_type": "code",
   "execution_count": null,
   "id": "cc2e41df",
   "metadata": {},
   "outputs": [],
   "source": []
  },
  {
   "cell_type": "code",
   "execution_count": null,
   "id": "f7846b9e",
   "metadata": {},
   "outputs": [],
   "source": []
  }
 ],
 "metadata": {
  "kernelspec": {
   "display_name": "Python 3 (ipykernel)",
   "language": "python",
   "name": "python3"
  },
  "language_info": {
   "codemirror_mode": {
    "name": "ipython",
    "version": 3
   },
   "file_extension": ".py",
   "mimetype": "text/x-python",
   "name": "python",
   "nbconvert_exporter": "python",
   "pygments_lexer": "ipython3",
   "version": "3.11.5"
  }
 },
 "nbformat": 4,
 "nbformat_minor": 5
}
